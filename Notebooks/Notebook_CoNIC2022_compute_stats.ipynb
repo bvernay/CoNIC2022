{
 "cells": [
  {
   "cell_type": "markdown",
   "metadata": {},
   "source": [
    "# Libraries requirement for CoNIC environment\n",
    "conda create --name CoNIC python=3.7\n",
    "\n",
    "#essential libraries:\n",
    "pip3 docopt numpy pandas tqdm scipy sklearn\n",
    "#pip3 scikit-image matplotlib\n",
    "\n",
    "for running in jupyter notebook: \n",
    "#pip3 jupyter"
   ]
  },
  {
   "cell_type": "code",
   "execution_count": 127,
   "metadata": {},
   "outputs": [],
   "source": [
    "from docopt import docopt\n",
    "import numpy as np\n",
    "import os\n",
    "import pandas as pd\n",
    "from tqdm.auto import tqdm\n",
    "\n",
    "from metrics.stats_utils import get_pq, get_multi_pq_info, get_multi_r2"
   ]
  },
  {
   "cell_type": "markdown",
   "metadata": {},
   "source": [
    "#### Data should be .npy format not .tif format"
   ]
  },
  {
   "cell_type": "code",
   "execution_count": 128,
   "metadata": {},
   "outputs": [],
   "source": [
    "# https://github.com/TissueImageAnalytics/CoNIC\n",
    "# To get the stats for segmentation and classification, run:\n",
    "\n",
    "# python compute_stats.py --mode=\"seg_class\" --pred=<path_to_results> --true=<path_to_ground_truth>\n",
    "# To get the stats for cellular composition prediction, run:\n",
    "\n",
    "# python compute_stats.py --mode=\"regression\" --pred=<path_to_results> --true=<path_to_ground_truth>\n",
    "\n",
    "mode = [\"--mode\"]\n",
    "pred_array = np.load('../CoNIC-main/Predictions/labels.npy')\n",
    "true_array = np.load('../CoNIC-main/Ground_Truth/labels.npy')\n",
    "#seg_metrics_names = [\"pq\", \"multi_pq+\"]\n",
    "seg_metrics_names = [\"pq\", \"multi_pq+\"]\n",
    "reg_metrics_names = [\"r2\"]"
   ]
  },
  {
   "cell_type": "code",
   "execution_count": 129,
   "metadata": {},
   "outputs": [],
   "source": [
    "# Select only images n to m\n",
    "pred_array = pred_array[4000:4100,:,:,:]\n",
    "true_array = true_array[4000:4100,:,:,:]"
   ]
  },
  {
   "cell_type": "code",
   "execution_count": 130,
   "metadata": {},
   "outputs": [],
   "source": [
    "nr_patches = pred_array.shape[0]"
   ]
  },
  {
   "cell_type": "code",
   "execution_count": 131,
   "metadata": {},
   "outputs": [],
   "source": [
    "all_metrics = {}\n",
    "pq_list = []\n",
    "mpq_info_list = []"
   ]
  },
  {
   "cell_type": "code",
   "execution_count": 132,
   "metadata": {
    "scrolled": true
   },
   "outputs": [
    {
     "data": {
      "application/vnd.jupyter.widget-view+json": {
       "model_id": "0014c20bac434664bf1456fcbca02d9c",
       "version_major": 2,
       "version_minor": 0
      },
      "text/plain": [
       "  0%|          | 0/100 [00:00<?, ?it/s]"
      ]
     },
     "metadata": {},
     "output_type": "display_data"
    }
   ],
   "source": [
    "for patch_idx in tqdm(range(nr_patches)):\n",
    "    # get a single patch\n",
    "    pred = pred_array[patch_idx]\n",
    "    true = true_array[patch_idx]\n",
    "    # instance segmentation map\n",
    "    pred_inst = pred[..., 0]\n",
    "    true_inst = true[..., 0]\n",
    "    # classification map\n",
    "    pred_class = pred[..., 1]\n",
    "    true_class = true[..., 1]\n",
    "    \n",
    "    for idx, metric in enumerate(seg_metrics_names):\n",
    "        if metric == \"pq\":\n",
    "            # get binary panoptic quality\n",
    "            pq = get_pq(true_inst, pred_inst)\n",
    "            pq = pq[0][2]\n",
    "            pq_list.append(pq)\n",
    "        elif metric == \"multi_pq+\":\n",
    "            # get the multiclass pq stats info from single image\n",
    "            mpq_info_single = get_multi_pq_info(true, pred)\n",
    "            mpq_info = []\n",
    "            # aggregate the stat info per class\n",
    "            for single_class_pq in mpq_info_single:\n",
    "                tp = single_class_pq[0]\n",
    "                fp = single_class_pq[1]\n",
    "                fn = single_class_pq[2]\n",
    "                sum_iou = single_class_pq[3]\n",
    "                mpq_info.append([tp, fp, fn, sum_iou])\n",
    "            mpq_info_list.append(mpq_info)\n",
    "        else:\n",
    "            raise ValueError(\"%s is not supported!\" % metric)"
   ]
  },
  {
   "cell_type": "code",
   "execution_count": 133,
   "metadata": {},
   "outputs": [],
   "source": [
    "pq_metrics = np.array(pq_list)\n",
    "pq_metrics_avg = np.mean(pq_metrics, axis=-1)  # average over all images\n",
    "if \"multi_pq+\" in seg_metrics_names:\n",
    "    mpq_info_metrics = np.array(mpq_info_list, dtype=\"float\")\n",
    "    # sum over all the images\n",
    "    total_mpq_info_metrics = np.sum(mpq_info_metrics, axis=0)"
   ]
  },
  {
   "cell_type": "code",
   "execution_count": 134,
   "metadata": {},
   "outputs": [],
   "source": [
    "for idx, metric in enumerate(seg_metrics_names):\n",
    "    if metric == \"multi_pq+\":\n",
    "        mpq_list = []\n",
    "        # for each class, get the multiclass PQ\n",
    "        for cat_idx in range(total_mpq_info_metrics.shape[0]):\n",
    "            total_tp = total_mpq_info_metrics[cat_idx][0]\n",
    "            total_fp = total_mpq_info_metrics[cat_idx][1]\n",
    "            total_fn = total_mpq_info_metrics[cat_idx][2]\n",
    "            total_sum_iou = total_mpq_info_metrics[cat_idx][3]\n",
    "\n",
    "            # get the F1-score i.e DQ\n",
    "            dq = total_tp / (\n",
    "                (total_tp + 0.5 * total_fp + 0.5 * total_fn) + 1.0e-6\n",
    "            )\n",
    "            # get the SQ, when not paired, it has 0 IoU so does not impact\n",
    "            sq = total_sum_iou / (total_tp + 1.0e-6)\n",
    "            mpq_list.append(dq * sq)\n",
    "        mpq_metrics = np.array(mpq_list)\n",
    "        all_metrics[metric] = [np.mean(mpq_metrics)]\n",
    "    else:\n",
    "        all_metrics[metric] = [pq_metrics_avg]"
   ]
  },
  {
   "cell_type": "code",
   "execution_count": 135,
   "metadata": {
    "scrolled": true
   },
   "outputs": [
    {
     "name": "stdout",
     "output_type": "stream",
     "text": [
      " pq  multi_pq+\n",
      "1.0        1.0\n"
     ]
    }
   ],
   "source": [
    "df = pd.DataFrame(all_metrics)\n",
    "df = df.to_string(index=False)\n",
    "print(df)"
   ]
  },
  {
   "cell_type": "markdown",
   "metadata": {},
   "source": [
    "## Predicting cellular composition: multi-class coefficient of determination (R2)"
   ]
  },
  {
   "cell_type": "markdown",
   "metadata": {},
   "source": [
    "#### Data should be .csv format"
   ]
  },
  {
   "cell_type": "code",
   "execution_count": 154,
   "metadata": {},
   "outputs": [],
   "source": [
    "pred_csv = pd.read_csv('../CoNIC-main/Predictions_count/counts.csv')\n",
    "true_csv = pd.read_csv('../CoNIC-main/GT_count/counts.csv')"
   ]
  },
  {
   "cell_type": "code",
   "execution_count": 155,
   "metadata": {},
   "outputs": [],
   "source": [
    "# Select only rows n to m\n",
    "pred_csv = pred_csv.iloc[100:1000]\n",
    "true_csv = true_csv.iloc[100:1000]"
   ]
  },
  {
   "cell_type": "code",
   "execution_count": 156,
   "metadata": {},
   "outputs": [],
   "source": [
    "for idx, metric in enumerate(reg_metrics_names):\n",
    "    if metric == \"r2\":\n",
    "        # calculate multiclass coefficient of determination\n",
    "        r2 = get_multi_r2(true_csv, pred_csv)\n",
    "        all_metrics[\"multi_r2\"] = [r2]\n",
    "    else:\n",
    "        raise ValueError(\"%s is not supported!\" % metric)"
   ]
  },
  {
   "cell_type": "code",
   "execution_count": 157,
   "metadata": {},
   "outputs": [
    {
     "name": "stdout",
     "output_type": "stream",
     "text": [
      " pq  multi_pq+  multi_r2\n",
      "1.0        1.0       1.0\n"
     ]
    }
   ],
   "source": [
    "df = pd.DataFrame(all_metrics)\n",
    "df = df.to_string(index=False)\n",
    "print(df)"
   ]
  },
  {
   "cell_type": "code",
   "execution_count": null,
   "metadata": {},
   "outputs": [],
   "source": []
  }
 ],
 "metadata": {
  "kernelspec": {
   "display_name": "Python 3 (ipykernel)",
   "language": "python",
   "name": "python3"
  },
  "language_info": {
   "codemirror_mode": {
    "name": "ipython",
    "version": 3
   },
   "file_extension": ".py",
   "mimetype": "text/x-python",
   "name": "python",
   "nbconvert_exporter": "python",
   "pygments_lexer": "ipython3",
   "version": "3.7.11"
  },
  "widgets": {
   "application/vnd.jupyter.widget-state+json": {
    "state": {},
    "version_major": 2,
    "version_minor": 0
   }
  }
 },
 "nbformat": 4,
 "nbformat_minor": 4
}
